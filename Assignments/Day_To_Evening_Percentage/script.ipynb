{
 "cells": [
  {
   "cell_type": "code",
   "execution_count": 4,
   "metadata": {},
   "outputs": [
    {
     "name": "stdout",
     "output_type": "stream",
     "text": [
      "End of video or cannot fetch the frame.\n",
      "Analysis Results for 'Day_To_Evening.mp4':\n",
      "61.50% is Day (Warm tones)\n",
      "38.50% is Evening (Cool tones)\n"
     ]
    }
   ],
   "source": [
    "import cv2\n",
    "import numpy as np\n",
    "\n",
    "# Path to the video file\n",
    "video_path = 'Day_To_Evening.mp4'\n",
    "\n",
    "# Capture the video\n",
    "cap = cv2.VideoCapture(video_path)\n",
    "\n",
    "# Check if the video file was opened successfully\n",
    "if not cap.isOpened():\n",
    "    print(\"Error: Cannot open video file\")\n",
    "    exit()\n",
    "\n",
    "# Initialize counters\n",
    "total_warm = 0\n",
    "total_cool = 0\n",
    "frames = 0\n",
    "frame_size = 0\n",
    "\n",
    "# Read and process the video frame by frame\n",
    "while True:\n",
    "    ret, frame = cap.read()\n",
    "    if not ret:\n",
    "        print(\"End of video or cannot fetch the frame.\")\n",
    "        break\n",
    "\n",
    "    # Convert the frame to HSV\n",
    "    image_hsv = cv2.cvtColor(frame, cv2.COLOR_BGR2HSV)\n",
    "    frames += 1\n",
    "\n",
    "    # Get the hue channel\n",
    "    hue = image_hsv[:, :, 0]\n",
    "    frame_size = hue.size  # Total number of pixels in the frame\n",
    "\n",
    "    # Define warm (0-89) and cool (90-180) ranges\n",
    "    warm_mask = (hue >= 0) & (hue < 90)\n",
    "    cool_mask = (hue >= 90) & (hue <= 180)\n",
    "\n",
    "    # Update totals\n",
    "    total_warm += np.sum(warm_mask)\n",
    "    total_cool += np.sum(cool_mask)\n",
    "\n",
    "# Calculate percentages\n",
    "if frames > 0 and frame_size > 0:\n",
    "    warm_percentage = (total_warm / (frames * frame_size)) * 100\n",
    "    cool_percentage = (total_cool / (frames * frame_size)) * 100\n",
    "\n",
    "    # Print results\n",
    "    print(f\"Analysis Results for '{video_path}':\")\n",
    "    print(f\"{warm_percentage:.2f}% is Day (Warm tones)\")\n",
    "    print(f\"{cool_percentage:.2f}% is Evening (Cool tones)\")\n",
    "else:\n",
    "    print(\"No valid frames were processed.\")\n",
    "\n",
    "# Release the video capture object\n",
    "cap.release()\n"
   ]
  }
 ],
 "metadata": {
  "kernelspec": {
   "display_name": "cv_live",
   "language": "python",
   "name": "python3"
  },
  "language_info": {
   "codemirror_mode": {
    "name": "ipython",
    "version": 3
   },
   "file_extension": ".py",
   "mimetype": "text/x-python",
   "name": "python",
   "nbconvert_exporter": "python",
   "pygments_lexer": "ipython3",
   "version": "3.11.10"
  }
 },
 "nbformat": 4,
 "nbformat_minor": 2
}
