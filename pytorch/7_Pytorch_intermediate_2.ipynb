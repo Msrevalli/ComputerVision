{
 "cells": [
  {
   "cell_type": "markdown",
   "metadata": {},
   "source": [
    "#### Sequential\n",
    "- Simple and concise for linear architecture\n",
    "- Limited to layer stacking\n",
    "#### Functional API\n",
    "- Flexible but requires more code.\n",
    "- Allows any custom computation logic"
   ]
  },
  {
   "cell_type": "markdown",
   "metadata": {},
   "source": [
    "# nn.Sequential"
   ]
  },
  {
   "cell_type": "code",
   "execution_count": 1,
   "metadata": {},
   "outputs": [],
   "source": [
    "import torch\n",
    "import torch.nn as nn"
   ]
  },
  {
   "cell_type": "code",
   "execution_count": 3,
   "metadata": {},
   "outputs": [
    {
     "name": "stdout",
     "output_type": "stream",
     "text": [
      "Sequential(\n",
      "  (0): Linear(in_features=20, out_features=64, bias=True)\n",
      "  (1): ReLU()\n",
      "  (2): Linear(in_features=64, out_features=32, bias=True)\n",
      "  (3): ReLU()\n",
      "  (4): Linear(in_features=32, out_features=5, bias=True)\n",
      ")\n",
      "tensor([[ 1.3792, -0.8050,  0.8202,  1.0857, -1.1947, -0.2747,  1.2555, -1.4607,\n",
      "         -1.1871, -0.4453, -0.3349, -0.5531, -1.4094,  0.3556, -1.9384,  0.6041,\n",
      "         -1.2085, -0.4252,  0.6783, -1.3416],\n",
      "        [ 0.8821,  0.1486, -0.8599, -0.0909, -0.3296,  1.6787, -0.2116, -0.9837,\n",
      "          0.1286,  1.0199, -0.5117, -1.3837, -1.3781, -0.7491,  0.3319, -0.3084,\n",
      "          0.8719, -0.2913, -0.4170,  0.6776],\n",
      "        [ 1.7515,  0.9799,  1.2805,  0.3414, -0.3885, -1.4075, -0.0491, -0.1477,\n",
      "         -0.2375,  1.8623, -0.2085, -0.4303,  2.3390, -2.7953,  0.7896, -0.3738,\n",
      "          1.0465, -0.8128,  2.2683, -0.3204],\n",
      "        [-1.1445,  0.8609,  1.7220,  1.2364,  0.8231, -1.3193, -0.4343, -0.9922,\n",
      "         -2.0522, -1.3626,  0.0422,  0.8576,  0.6826,  0.5363,  0.4497,  0.9144,\n",
      "         -0.2836, -1.7443,  0.0575,  0.3520],\n",
      "        [-2.4358,  1.9050,  0.0806, -0.2656, -0.2232, -0.5778,  1.0325,  0.3944,\n",
      "          1.3680,  0.4460,  0.2327,  0.3738, -0.5305, -1.0099,  0.7722, -0.8054,\n",
      "         -0.7093,  0.4085, -0.4361, -2.3581],\n",
      "        [ 0.6612,  0.4474, -0.0123,  0.7143,  1.3190,  2.5555, -0.7032, -1.0117,\n",
      "         -0.0089, -0.3715,  1.1961, -0.9682,  1.7009, -0.6501,  0.0080, -0.5455,\n",
      "         -0.5190,  0.0575,  0.8013, -1.1402],\n",
      "        [-2.2576,  0.4834,  0.6092,  0.8286,  1.7191,  1.6611, -0.4300,  0.2669,\n",
      "          0.6340, -0.7321,  0.3078, -0.1762,  0.9153, -1.6323, -0.8454, -0.1150,\n",
      "         -1.2260,  0.7774, -0.0525,  0.0970],\n",
      "        [-0.0276, -1.0896,  0.4419, -0.3901, -1.1262, -0.2161,  0.5403,  0.1470,\n",
      "         -0.9989,  1.0933, -0.3065, -0.3592,  1.1804,  0.1097, -0.9118,  1.9545,\n",
      "          0.8705,  0.4172, -0.5211,  1.2084],\n",
      "        [ 0.9456,  0.8890, -0.1996, -0.2024,  0.5629, -1.2213, -0.4215, -0.0766,\n",
      "          0.5111,  1.3786, -0.2558,  0.2360, -0.1981, -0.6028, -1.2803, -0.3941,\n",
      "          0.6957,  0.0378, -0.5829,  0.1902],\n",
      "        [-2.1448,  0.2797, -0.6712, -0.6506,  0.7830,  1.9679, -1.1123,  1.3662,\n",
      "          1.1602, -1.0907, -1.8902,  0.4968, -0.5071,  0.4723,  0.5562,  1.6300,\n",
      "          0.7290, -0.6204,  1.5032, -2.0569]])\n",
      "tensor([[ 0.1229, -0.0377,  0.0867,  0.0422,  0.0566],\n",
      "        [ 0.1445, -0.0736,  0.1883,  0.1399, -0.0215],\n",
      "        [ 0.1082, -0.0049,  0.1853,  0.0246,  0.1481],\n",
      "        [-0.0322, -0.0536,  0.3490, -0.0012,  0.1296],\n",
      "        [ 0.1936,  0.0033, -0.0124,  0.2143,  0.0847],\n",
      "        [ 0.0343, -0.1799,  0.2527,  0.1027, -0.0006],\n",
      "        [ 0.1222, -0.0873,  0.1510,  0.1318,  0.0790],\n",
      "        [ 0.0899,  0.0465,  0.1826,  0.1975, -0.0219],\n",
      "        [ 0.1393,  0.0443,  0.2008,  0.0961,  0.0898],\n",
      "        [ 0.1218, -0.1141,  0.1125,  0.2503, -0.0471]],\n",
      "       grad_fn=<AddmmBackward0>)\n"
     ]
    }
   ],
   "source": [
    "# Define the neural network using sequential\n",
    "\n",
    "# Input as 20 features i.e. X\n",
    "# Ouput is 5 Taget variable / classes i.e. y\n",
    "\n",
    "sequential_model = nn.Sequential(\n",
    "    nn.Linear(20,64), # Input layer (20 -> 64)\n",
    "    nn.ReLU(),\n",
    "    nn.Linear(64, 32),\n",
    "    nn.ReLU(),\n",
    "    nn.Linear(32, 5),\n",
    ")\n",
    "\n",
    "print(sequential_model)\n",
    "\n",
    "input_data = torch.randn(10, 20) # 10 rows, 20 is my feature size in each row\n",
    "print(input_data)\n",
    "output = sequential_model(input_data)\n",
    "print(output)\n"
   ]
  },
  {
   "cell_type": "code",
   "execution_count": 4,
   "metadata": {},
   "outputs": [
    {
     "name": "stdout",
     "output_type": "stream",
     "text": [
      "Model weights tensor([[ 0.1148,  0.1979, -0.1780,  ...,  0.0629,  0.0211,  0.1893],\n",
      "        [-0.0113, -0.0232, -0.0880,  ..., -0.2119,  0.0171,  0.1187],\n",
      "        [-0.2016,  0.1326, -0.2087,  ..., -0.0729, -0.0370,  0.0326],\n",
      "        ...,\n",
      "        [ 0.0356,  0.0332, -0.2096,  ...,  0.0180, -0.0584,  0.0862],\n",
      "        [-0.0782,  0.1004,  0.1364,  ..., -0.1227,  0.1765,  0.0531],\n",
      "        [ 0.1520, -0.0781, -0.0729,  ..., -0.1474, -0.1418,  0.1402]])\n",
      "Model bias tensor([-0.1639,  0.1367,  0.1932,  0.1807, -0.2230, -0.0543, -0.0113,  0.1362,\n",
      "        -0.0735,  0.0396, -0.0729,  0.0746,  0.0559, -0.0980, -0.1120,  0.1159,\n",
      "        -0.2035,  0.1752, -0.1363, -0.1008, -0.1052,  0.1611, -0.0720, -0.1502,\n",
      "        -0.2020,  0.1059,  0.1743,  0.1956, -0.1695,  0.1237,  0.1045,  0.0031,\n",
      "         0.1091, -0.1208, -0.0582, -0.0797,  0.1736,  0.0232, -0.0249,  0.1967,\n",
      "        -0.0964, -0.1426, -0.1628, -0.1456, -0.0014, -0.1502,  0.1106,  0.2087,\n",
      "         0.0194,  0.0561, -0.0482, -0.0713,  0.1363,  0.0793, -0.0664, -0.1546,\n",
      "        -0.1074,  0.1289, -0.0233, -0.0291,  0.1697, -0.0128, -0.1920, -0.1890])\n"
     ]
    }
   ],
   "source": [
    "print(f\"Model weights {sequential_model[0].weight.data}\")\n",
    "print(f\"Model bias {sequential_model[0].bias.data}\")\n"
   ]
  },
  {
   "cell_type": "markdown",
   "metadata": {},
   "source": [
    "# Functional API"
   ]
  },
  {
   "cell_type": "code",
   "execution_count": 5,
   "metadata": {},
   "outputs": [
    {
     "name": "stdout",
     "output_type": "stream",
     "text": [
      "FunctionalModel(\n",
      "  (fc1): Linear(in_features=20, out_features=64, bias=True)\n",
      "  (fc2): Linear(in_features=64, out_features=32, bias=True)\n",
      "  (fc3): Linear(in_features=32, out_features=5, bias=True)\n",
      "  (relu): ReLU()\n",
      ")\n",
      "tensor([[-1.3070,  0.1032,  0.5568, -0.4147,  1.0392,  0.3329,  0.0384, -1.6081,\n",
      "          0.1327,  0.3418,  1.1015,  0.9654,  2.3364,  0.2639, -0.6385,  0.1314,\n",
      "         -0.3309, -1.6550,  0.0688, -1.3912],\n",
      "        [ 0.2445,  1.1699,  0.2018,  0.3214,  0.5044, -0.5608,  0.0649, -0.6566,\n",
      "         -1.4461, -0.5227, -0.0259,  0.0677,  1.2339,  0.8213, -2.8294,  0.6835,\n",
      "          0.1291,  0.7535, -0.1602, -0.5180],\n",
      "        [ 1.1399,  0.8217,  0.7584, -0.1130, -1.9548, -0.3504,  1.8159, -0.6329,\n",
      "          1.1205,  0.3743,  0.0072,  0.3930, -0.3645, -0.9858, -0.3790, -0.2466,\n",
      "          0.2417,  1.0879, -0.6716,  1.0289],\n",
      "        [ 0.6977, -1.4034, -0.5170, -1.1629, -1.3438,  0.0726, -0.5969,  2.1744,\n",
      "          0.7602, -0.6274, -0.1978,  0.6048,  2.6544,  0.0487,  2.1333,  0.2672,\n",
      "          0.5667,  0.0623, -1.1395, -1.1219],\n",
      "        [-1.6763,  0.4676, -0.2587, -0.0949,  0.9924, -0.7130,  0.6657,  0.6691,\n",
      "         -0.9885,  0.0281, -0.3871, -0.1576, -1.1132,  2.0744, -0.5617,  0.1185,\n",
      "          0.3252, -1.0540, -0.7431,  1.3234],\n",
      "        [-1.1501,  2.5401, -0.2560,  0.4429, -0.5077, -0.2148,  0.2233, -0.4755,\n",
      "         -0.2698, -0.4376, -0.5470,  2.2555, -0.3876, -0.1652, -0.9044,  0.3377,\n",
      "          1.4985, -1.2395,  1.0172, -0.2066],\n",
      "        [-0.6048, -0.7573,  1.3065,  0.9187, -0.9683,  0.7208,  0.2418,  0.1100,\n",
      "         -1.2796,  0.5359,  1.0958,  0.8502, -0.8119,  0.5155,  0.7981, -1.1816,\n",
      "         -1.0976, -0.0177, -0.4056,  0.2197],\n",
      "        [-0.5697,  2.0159, -0.3746,  0.2704,  1.4358,  1.0245,  0.3997,  1.4630,\n",
      "         -0.0369, -0.1326, -0.6786, -0.1494, -1.0617,  0.7320,  0.8863, -0.6407,\n",
      "         -1.5479,  0.6106,  0.0333, -0.8303],\n",
      "        [ 0.4955, -1.5488, -0.5077,  0.6655,  0.8575, -0.0301, -1.0413, -0.0958,\n",
      "          0.6267, -1.0628,  0.5667,  0.4783,  0.5335, -0.6079, -0.4707, -0.2809,\n",
      "          0.3894,  0.5738, -0.7365, -0.2875],\n",
      "        [ 0.0577, -0.4964, -0.6424,  0.2363, -0.4003,  1.0407, -0.8229, -0.8735,\n",
      "         -0.8133, -0.8308,  0.8602, -0.0680, -0.4721,  0.3052,  1.2690,  1.2054,\n",
      "          0.9111, -0.2342,  0.9754, -0.0499]])\n",
      "tensor([[ 5.0728e-02, -7.1739e-02, -1.4011e-01, -8.1333e-02, -5.3824e-02],\n",
      "        [ 5.5530e-02,  5.8800e-02, -1.8727e-01, -9.4785e-02, -1.5469e-01],\n",
      "        [ 1.1368e-01,  4.3681e-02, -7.3272e-03,  8.3685e-02, -1.5847e-01],\n",
      "        [ 1.4107e-01, -7.6679e-02, -2.9412e-02, -5.9301e-02, -4.8337e-03],\n",
      "        [ 1.2934e-01, -9.7487e-04, -9.6337e-02,  8.0795e-02, -9.4303e-02],\n",
      "        [-9.9201e-02, -1.0497e-01, -9.6194e-05, -8.3084e-02, -1.6063e-01],\n",
      "        [ 9.9268e-03, -6.2723e-02, -6.6349e-02, -6.3976e-02, -8.9104e-02],\n",
      "        [ 9.2820e-02,  9.7290e-03, -4.4571e-02,  2.9990e-03, -1.1915e-01],\n",
      "        [ 1.0658e-01, -3.5886e-02,  2.1100e-02, -4.3638e-02, -1.3961e-02],\n",
      "        [ 1.0137e-01, -1.7015e-01, -1.0028e-01, -2.1159e-01, -8.6196e-02]],\n",
      "       grad_fn=<AddmmBackward0>)\n"
     ]
    }
   ],
   "source": [
    "class FunctionalModel(nn.Module):\n",
    "  def __init__(self):\n",
    "    super(FunctionalModel, self).__init__()\n",
    "    self.fc1 = nn.Linear(20, 64)\n",
    "    self.fc2 = nn.Linear(64, 32)\n",
    "    self.fc3 = nn.Linear(32, 5)\n",
    "    self.relu = nn.ReLU()\n",
    "\n",
    "  def forward(self, X):\n",
    "    x = self.relu(self.fc1(X))\n",
    "    x = self.relu(self.fc2(x))\n",
    "    x = self.fc3(x)\n",
    "    return x\n",
    "\n",
    "functional_model = FunctionalModel()\n",
    "\n",
    "print(functional_model)\n",
    "\n",
    "input_data = torch.randn(10, 20) # 10 rows, 20 is my feature size in each row\n",
    "print(input_data)\n",
    "output = functional_model(input_data)\n",
    "print(output)"
   ]
  },
  {
   "cell_type": "markdown",
   "metadata": {
    "id": "w3cXYT_oK436"
   },
   "source": [
    "# Multi-Class Classification with PyTorch"
   ]
  },
  {
   "cell_type": "code",
   "execution_count": 6,
   "metadata": {
    "executionInfo": {
     "elapsed": 11244,
     "status": "ok",
     "timestamp": 1726764696827,
     "user": {
      "displayName": "nimoy",
      "userId": "12145814232676261569"
     },
     "user_tz": -330
    },
    "id": "jXMd8PPhFWxv"
   },
   "outputs": [],
   "source": [
    "import torch\n",
    "import torch.nn as nn\n",
    "import torch.optim as optim\n",
    "from sklearn.datasets import load_iris\n",
    "from sklearn.model_selection import train_test_split\n",
    "from sklearn.preprocessing import StandardScaler"
   ]
  },
  {
   "cell_type": "code",
   "execution_count": 7,
   "metadata": {
    "executionInfo": {
     "elapsed": 477,
     "status": "ok",
     "timestamp": 1726764768759,
     "user": {
      "displayName": "nimoy",
      "userId": "12145814232676261569"
     },
     "user_tz": -330
    },
    "id": "QjwZKCwxIbCL"
   },
   "outputs": [],
   "source": [
    "# Set device (CPU or GPU)\n",
    "device = torch.device('cuda' if torch.cuda.is_available() else 'cpu')"
   ]
  },
  {
   "cell_type": "code",
   "execution_count": 8,
   "metadata": {
    "executionInfo": {
     "elapsed": 2,
     "status": "ok",
     "timestamp": 1726764770632,
     "user": {
      "displayName": "nimoy",
      "userId": "12145814232676261569"
     },
     "user_tz": -330
    },
    "id": "Qa83_aHSLQ1S"
   },
   "outputs": [],
   "source": [
    "# Load and preprocess the dataset\n",
    "iris = load_iris()\n",
    "X = iris.data  # Features (numerical data)\n",
    "y = iris.target  # Labels (3 classes)"
   ]
  },
  {
   "cell_type": "code",
   "execution_count": 9,
   "metadata": {
    "executionInfo": {
     "elapsed": 2,
     "status": "ok",
     "timestamp": 1726764771351,
     "user": {
      "displayName": "nimoy",
      "userId": "12145814232676261569"
     },
     "user_tz": -330
    },
    "id": "ZqCpURX2LE64"
   },
   "outputs": [],
   "source": [
    "# Standardize the features\n",
    "scaler = StandardScaler()\n",
    "X = scaler.fit_transform(X)"
   ]
  },
  {
   "cell_type": "code",
   "execution_count": 10,
   "metadata": {
    "executionInfo": {
     "elapsed": 481,
     "status": "ok",
     "timestamp": 1726764773792,
     "user": {
      "displayName": "nimoy",
      "userId": "12145814232676261569"
     },
     "user_tz": -330
    },
    "id": "KvdSiexrLIjX"
   },
   "outputs": [],
   "source": [
    "# Convert data to tensors\n",
    "X = torch.tensor(X, dtype=torch.float32).to(device)\n",
    "y = torch.tensor(y, dtype=torch.long).to(device)  # Multi-class requires LongTensor for target"
   ]
  },
  {
   "cell_type": "code",
   "execution_count": 11,
   "metadata": {
    "executionInfo": {
     "elapsed": 475,
     "status": "ok",
     "timestamp": 1726764775946,
     "user": {
      "displayName": "nimoy",
      "userId": "12145814232676261569"
     },
     "user_tz": -330
    },
    "id": "QabtPJeALJOI"
   },
   "outputs": [],
   "source": [
    "# Split the dataset into training and test sets\n",
    "X_train, X_test, y_train, y_test = train_test_split(X, y, test_size=0.2, random_state=42)"
   ]
  },
  {
   "cell_type": "code",
   "execution_count": 12,
   "metadata": {
    "colab": {
     "base_uri": "https://localhost:8080/"
    },
    "executionInfo": {
     "elapsed": 468,
     "status": "ok",
     "timestamp": 1726765350605,
     "user": {
      "displayName": "nimoy",
      "userId": "12145814232676261569"
     },
     "user_tz": -330
    },
    "id": "grjknIfBODqp",
    "outputId": "c9f71803-a56c-4fc6-cced-cd9140bccf4a"
   },
   "outputs": [
    {
     "name": "stdout",
     "output_type": "stream",
     "text": [
      "torch.Size([30, 4])\n",
      "============================================================\n",
      "tensor([[ 3.1100e-01, -5.9237e-01,  5.3541e-01,  8.7755e-04],\n",
      "        [-1.7367e-01,  1.7096e+00, -1.1697e+00, -1.1838e+00],\n",
      "        [ 2.2497e+00, -1.0528e+00,  1.7858e+00,  1.4488e+00],\n",
      "        [ 1.8983e-01, -3.6218e-01,  4.2173e-01,  3.9577e-01],\n",
      "        [ 1.1592e+00, -5.9237e-01,  5.9225e-01,  2.6414e-01],\n",
      "        [-5.3718e-01,  7.8881e-01, -1.2834e+00, -1.0522e+00],\n",
      "        [-2.9484e-01, -3.6218e-01, -8.9803e-02,  1.3251e-01],\n",
      "        [ 1.2803e+00,  9.8217e-02,  7.6276e-01,  1.4488e+00],\n",
      "        [ 4.3217e-01, -1.9736e+00,  4.2173e-01,  3.9577e-01],\n",
      "        [-5.2506e-02, -8.2257e-01,  8.0709e-02,  8.7755e-04],\n",
      "        [ 7.9567e-01,  3.2841e-01,  7.6276e-01,  1.0539e+00],\n",
      "        [-1.2642e+00, -1.3198e-01, -1.3402e+00, -1.4471e+00],\n",
      "        [-4.1601e-01,  1.0190e+00, -1.3971e+00, -1.3154e+00],\n",
      "        [-1.1430e+00,  9.8217e-02, -1.2834e+00, -1.4471e+00],\n",
      "        [-9.0068e-01,  1.7096e+00, -1.2834e+00, -1.1838e+00],\n",
      "        [ 5.5333e-01,  5.5861e-01,  5.3541e-01,  5.2741e-01],\n",
      "        [ 7.9567e-01, -1.3198e-01,  1.1606e+00,  1.3172e+00],\n",
      "        [-2.9484e-01, -1.2830e+00,  8.0709e-02, -1.3075e-01],\n",
      "        [-1.7367e-01, -5.9237e-01,  4.2173e-01,  1.3251e-01],\n",
      "        [ 6.7450e-01, -5.9237e-01,  1.0469e+00,  1.3172e+00],\n",
      "        [-1.3854e+00,  3.2841e-01, -1.2266e+00, -1.3154e+00],\n",
      "        [ 3.1100e-01, -1.3198e-01,  6.4908e-01,  7.9067e-01],\n",
      "        [-1.0218e+00,  7.8881e-01, -1.2266e+00, -1.0522e+00],\n",
      "        [ 6.7450e-01, -5.9237e-01,  1.0469e+00,  1.1856e+00],\n",
      "        [ 2.4920e+00,  1.7096e+00,  1.5016e+00,  1.0539e+00],\n",
      "        [ 1.0380e+00, -1.3198e-01,  8.1960e-01,  1.4488e+00],\n",
      "        [ 1.0380e+00, -1.2830e+00,  1.1606e+00,  7.9067e-01],\n",
      "        [ 1.1592e+00,  3.2841e-01,  1.2175e+00,  1.4488e+00],\n",
      "        [-1.2642e+00, -1.3198e-01, -1.3402e+00, -1.1838e+00],\n",
      "        [-1.2642e+00,  9.8217e-02, -1.2266e+00, -1.3154e+00]])\n",
      "tensor([1, 0, 2, 1, 1, 0, 1, 2, 1, 1, 2, 0, 0, 0, 0, 1, 2, 1, 1, 2, 0, 2, 0, 2,\n",
      "        2, 2, 2, 2, 0, 0])\n",
      "============================================================\n",
      "tensor([ 0.3110, -0.5924,  0.5354,  0.0009])\n",
      "tensor(1)\n"
     ]
    }
   ],
   "source": [
    "print(X_test.shape)\n",
    "\n",
    "print(\"=\"*60)\n",
    "\n",
    "print(X_test[:,:])\n",
    "print(y_test[:])\n",
    "\n",
    "print(\"=\"*60)\n",
    "print(X_test[0,:])\n",
    "print(y_test[0])"
   ]
  },
  {
   "cell_type": "code",
   "execution_count": 13,
   "metadata": {
    "executionInfo": {
     "elapsed": 2,
     "status": "ok",
     "timestamp": 1726764792637,
     "user": {
      "displayName": "nimoy",
      "userId": "12145814232676261569"
     },
     "user_tz": -330
    },
    "id": "cE5-3fh3LLGI"
   },
   "outputs": [],
   "source": [
    "# Define the neural network model\n",
    "class NeuralNetBasic(nn.Module):\n",
    "    def __init__(self, input_size, hidden_size, num_classes):\n",
    "        super(NeuralNetBasic, self).__init__()\n",
    "        self.fc1 = nn.Linear(input_size, hidden_size)  # First fully connected layer\n",
    "        self.relu = nn.ReLU()  # Activation function\n",
    "        self.fc2 = nn.Linear(hidden_size, num_classes)  # Output layer for classification\n",
    "\n",
    "    def forward(self, x):\n",
    "        out = self.fc1(x)\n",
    "        out = self.relu(out)\n",
    "        out = self.fc2(out)\n",
    "        return out\n",
    "\n",
    "# Model parameters\n",
    "input_size = X_train.shape[1]  # Number of features (4 for Iris)\n",
    "hidden_size = 16  # Arbitrary hidden layer size\n",
    "num_classes = 3  # Number of output classes (3 for Iris)\n",
    "\n",
    "# Instantiate the model\n",
    "model = NeuralNetBasic(input_size, hidden_size, num_classes).to(device)"
   ]
  },
  {
   "cell_type": "code",
   "execution_count": 14,
   "metadata": {
    "executionInfo": {
     "elapsed": 457,
     "status": "ok",
     "timestamp": 1726765385608,
     "user": {
      "displayName": "nimoy",
      "userId": "12145814232676261569"
     },
     "user_tz": -330
    },
    "id": "2huQU_DQLNwf"
   },
   "outputs": [],
   "source": [
    "# Neural network model with multiple layers\n",
    "class NeuralNetAdvance(nn.Module):\n",
    "    def __init__(self, input_size, hidden_size1, hidden_size2, hidden_size3, num_classes):\n",
    "        super(NeuralNetAdvance, self).__init__()\n",
    "        self.fc1 = nn.Linear(input_size, hidden_size1)  # First hidden layer\n",
    "        self.fc2 = nn.Linear(hidden_size1, hidden_size2)  # Second hidden layer\n",
    "        self.fc3 = nn.Linear(hidden_size2, hidden_size3)  # Third hidden layer\n",
    "        self.fc4 = nn.Linear(hidden_size3, num_classes)  # Output layer\n",
    "        self.relu = nn.ReLU()  # ReLU activation function\n",
    "        self.dropout = nn.Dropout(p=0.5)  # Dropout for regularization\n",
    "\n",
    "    def forward(self, x):\n",
    "        x = self.fc1(x)\n",
    "        x = self.relu(x)\n",
    "        x = self.dropout(x)  # Apply dropout to the first hidden layer\n",
    "\n",
    "        x = self.fc2(x)\n",
    "        x = self.relu(x)\n",
    "        x = self.dropout(x)  # Apply dropout to the second hidden layer\n",
    "\n",
    "        x = self.fc3(x)\n",
    "        x = self.relu(x)\n",
    "\n",
    "        x = self.fc4(x)  # Output layer (no activation, as CrossEntropyLoss applies softmax)\n",
    "        return x\n",
    "\n",
    "# Model parameters\n",
    "input_size = X_train.shape[1]  # Number of features (4 for Iris)\n",
    "hidden_size1 = 32  # First hidden layer size\n",
    "hidden_size2 = 64  # Second hidden layer size\n",
    "hidden_size3 = 32  # Third hidden layer size\n",
    "num_classes = 3  # Number of output classes (3 for Iris)\n",
    "\n",
    "# Instantiate the model\n",
    "model = NeuralNetAdvance(input_size, hidden_size1, hidden_size2, hidden_size3, num_classes).to(device)\n"
   ]
  },
  {
   "cell_type": "code",
   "execution_count": 15,
   "metadata": {
    "executionInfo": {
     "elapsed": 455,
     "status": "ok",
     "timestamp": 1726765391435,
     "user": {
      "displayName": "nimoy",
      "userId": "12145814232676261569"
     },
     "user_tz": -330
    },
    "id": "sQ9W-PRGLa_g"
   },
   "outputs": [],
   "source": [
    "# Define the loss function and optimizer\n",
    "criterion = nn.CrossEntropyLoss()  # Suitable for multi-class classification\n",
    "optimizer = optim.Adam(model.parameters(), lr=0.001)  # Adam optimizer"
   ]
  },
  {
   "cell_type": "code",
   "execution_count": 16,
   "metadata": {
    "executionInfo": {
     "elapsed": 487,
     "status": "ok",
     "timestamp": 1726765394748,
     "user": {
      "displayName": "nimoy",
      "userId": "12145814232676261569"
     },
     "user_tz": -330
    },
    "id": "5fVaKTM-LeGo"
   },
   "outputs": [],
   "source": [
    "# Train the model\n",
    "num_epochs = 100  # Number of training iterations\n",
    "batch_size = 16  # Batch size for training"
   ]
  },
  {
   "cell_type": "code",
   "execution_count": 18,
   "metadata": {
    "executionInfo": {
     "elapsed": 439,
     "status": "ok",
     "timestamp": 1726765397638,
     "user": {
      "displayName": "nimoy",
      "userId": "12145814232676261569"
     },
     "user_tz": -330
    },
    "id": "2aFCPugjLfPI"
   },
   "outputs": [],
   "source": [
    "def train_model(X_train, y_train):\n",
    "    model.train()\n",
    "    for epoch in range(num_epochs):\n",
    "        # Forward pass\n",
    "        outputs = model(X_train)\n",
    "        loss = criterion(outputs, y_train)\n",
    "\n",
    "        # Backward pass and optimization\n",
    "        optimizer.zero_grad()  # Clear gradients\n",
    "        loss.backward()  # Backpropagation\n",
    "        optimizer.step()  # Update model parameters\n",
    "\n",
    "        if (epoch + 1) % 10 == 0:\n",
    "            print(f'Epoch [{epoch+1}/{num_epochs}], Loss: {loss.item():.4f}')"
   ]
  },
  {
   "cell_type": "markdown",
   "metadata": {
    "id": "wOoRpw2UQYMZ"
   },
   "source": [
    "# How the Model Handles Batches?\n",
    "\n",
    "In the forward pass, PyTorch automatically handles multiple inputs (batches). This happens because the operations like matrix multiplication, addition, activation functions, etc., are all vectorized, meaning they are performed on the entire batch simultaneously."
   ]
  },
  {
   "cell_type": "code",
   "execution_count": 19,
   "metadata": {
    "colab": {
     "base_uri": "https://localhost:8080/"
    },
    "executionInfo": {
     "elapsed": 445,
     "status": "ok",
     "timestamp": 1726765401390,
     "user": {
      "displayName": "nimoy",
      "userId": "12145814232676261569"
     },
     "user_tz": -330
    },
    "id": "-qUBnIOZLiLo",
    "outputId": "32e2b3a2-1840-42eb-bde4-481d819afe71"
   },
   "outputs": [
    {
     "name": "stdout",
     "output_type": "stream",
     "text": [
      "Epoch [10/100], Loss: 1.0639\n",
      "Epoch [20/100], Loss: 1.0031\n",
      "Epoch [30/100], Loss: 0.8829\n",
      "Epoch [40/100], Loss: 0.7744\n",
      "Epoch [50/100], Loss: 0.6520\n",
      "Epoch [60/100], Loss: 0.5312\n",
      "Epoch [70/100], Loss: 0.4683\n",
      "Epoch [80/100], Loss: 0.4226\n",
      "Epoch [90/100], Loss: 0.3878\n",
      "Epoch [100/100], Loss: 0.3309\n"
     ]
    }
   ],
   "source": [
    "# Train the model on the training data\n",
    "train_model(X_train, y_train)"
   ]
  },
  {
   "cell_type": "code",
   "execution_count": 20,
   "metadata": {
    "colab": {
     "base_uri": "https://localhost:8080/"
    },
    "executionInfo": {
     "elapsed": 456,
     "status": "ok",
     "timestamp": 1726765412319,
     "user": {
      "displayName": "nimoy",
      "userId": "12145814232676261569"
     },
     "user_tz": -330
    },
    "id": "r21Nrmh-LjzQ",
    "outputId": "e8894491-5474-4b26-f973-0980c514455d"
   },
   "outputs": [
    {
     "data": {
      "text/plain": [
       "NeuralNetAdvance(\n",
       "  (fc1): Linear(in_features=4, out_features=32, bias=True)\n",
       "  (fc2): Linear(in_features=32, out_features=64, bias=True)\n",
       "  (fc3): Linear(in_features=64, out_features=32, bias=True)\n",
       "  (fc4): Linear(in_features=32, out_features=3, bias=True)\n",
       "  (relu): ReLU()\n",
       "  (dropout): Dropout(p=0.5, inplace=False)\n",
       ")"
      ]
     },
     "execution_count": 20,
     "metadata": {},
     "output_type": "execute_result"
    }
   ],
   "source": [
    "# Evaluate the model\n",
    "model.eval()  # Set model to evaluation mode (no gradients)"
   ]
  },
  {
   "cell_type": "code",
   "execution_count": 21,
   "metadata": {
    "colab": {
     "base_uri": "https://localhost:8080/"
    },
    "executionInfo": {
     "elapsed": 476,
     "status": "ok",
     "timestamp": 1726765415932,
     "user": {
      "displayName": "nimoy",
      "userId": "12145814232676261569"
     },
     "user_tz": -330
    },
    "id": "yEQWqbFJLlF5",
    "outputId": "daead6f1-d5cc-447b-cbde-33d3898ed838"
   },
   "outputs": [
    {
     "name": "stdout",
     "output_type": "stream",
     "text": [
      "Accuracy on the test set: 93.33%\n"
     ]
    }
   ],
   "source": [
    "with torch.no_grad():  # No need to compute gradients during testing\n",
    "    test_outputs = model(X_test)\n",
    "    _, predicted = torch.max(test_outputs, 1)  # Get the class with highest probability\n",
    "    accuracy = (predicted == y_test).sum().item() / y_test.size(0)\n",
    "    print(f'Accuracy on the test set: {accuracy * 100:.2f}%')"
   ]
  },
  {
   "cell_type": "code",
   "execution_count": 22,
   "metadata": {
    "colab": {
     "base_uri": "https://localhost:8080/"
    },
    "executionInfo": {
     "elapsed": 456,
     "status": "ok",
     "timestamp": 1726765428833,
     "user": {
      "displayName": "nimoy",
      "userId": "12145814232676261569"
     },
     "user_tz": -330
    },
    "id": "8EfccrnKLmpY",
    "outputId": "327b4256-15b7-40b2-de70-48d5a9543368"
   },
   "outputs": [
    {
     "name": "stdout",
     "output_type": "stream",
     "text": [
      "tensor([[-0.9007,  1.0190, -1.3402, -1.3154],\n",
      "        [ 0.7957, -0.1320,  0.9901,  0.7907]])\n"
     ]
    }
   ],
   "source": [
    "# Example of prediction on new data\n",
    "new_data = torch.tensor([[5.1, 3.5, 1.4, 0.2], [6.5, 3.0, 5.5, 1.8]], dtype=torch.float32).to(device)\n",
    "new_data = torch.tensor(scaler.transform(new_data.cpu()), dtype=torch.float32).to(device)\n",
    "print(new_data)"
   ]
  },
  {
   "cell_type": "markdown",
   "metadata": {
    "id": "W_JbVs28PzaK"
   },
   "source": [
    "* scaler.transform(new_data.cpu()) scales the data and returns a NumPy array.\n",
    "* torch.tensor(...) converts the NumPy array back to a PyTorch tensor.\n",
    "* .to(device) moves the tensor to the appropriate device (CPU or GPU)."
   ]
  },
  {
   "cell_type": "code",
   "execution_count": 29,
   "metadata": {
    "colab": {
     "base_uri": "https://localhost:8080/"
    },
    "executionInfo": {
     "elapsed": 460,
     "status": "ok",
     "timestamp": 1726765442763,
     "user": {
      "displayName": "nimoy",
      "userId": "12145814232676261569"
     },
     "user_tz": -330
    },
    "id": "P008zXP6LpNo",
    "outputId": "503c1e9d-84cb-4b23-c89c-ecd6bc70e199"
   },
   "outputs": [
    {
     "name": "stdout",
     "output_type": "stream",
     "text": [
      "tensor([[ 4.9945, -3.1014, -3.4917],\n",
      "        [-2.8206,  2.0504,  3.0794]])\n",
      "Predicted classes for new data: [0 2]\n"
     ]
    }
   ],
   "source": [
    "with torch.no_grad():\n",
    "    predictions = model(new_data)\n",
    "    print(predictions)\n",
    "    _, predicted_classes = torch.max(predictions,1)\n",
    "    print(\"Predicted classes for new data:\", predicted_classes.cpu().numpy())"
   ]
  },
  {
   "cell_type": "code",
   "execution_count": null,
   "metadata": {
    "id": "zq1XxuS4Nx9i"
   },
   "outputs": [],
   "source": []
  }
 ],
 "metadata": {
  "colab": {
   "authorship_tag": "ABX9TyOttHEJV6wiGEdsHm7TQywy",
   "provenance": []
  },
  "kernelspec": {
   "display_name": "cv_live",
   "language": "python",
   "name": "python3"
  },
  "language_info": {
   "codemirror_mode": {
    "name": "ipython",
    "version": 3
   },
   "file_extension": ".py",
   "mimetype": "text/x-python",
   "name": "python",
   "nbconvert_exporter": "python",
   "pygments_lexer": "ipython3",
   "version": "3.11.10"
  }
 },
 "nbformat": 4,
 "nbformat_minor": 0
}
