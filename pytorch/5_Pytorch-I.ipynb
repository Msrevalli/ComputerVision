{
 "cells": [
  {
   "cell_type": "code",
   "execution_count": 1,
   "metadata": {
    "executionInfo": {
     "elapsed": 11157,
     "status": "ok",
     "timestamp": 1726711575711,
     "user": {
      "displayName": "nimoy",
      "userId": "12145814232676261569"
     },
     "user_tz": -330
    },
    "id": "ppxZqLkD13JJ"
   },
   "outputs": [],
   "source": [
    "import torch"
   ]
  },
  {
   "cell_type": "markdown",
   "metadata": {
    "id": "ZxO75VHH2NOg"
   },
   "source": [
    "## Pytorch Version"
   ]
  },
  {
   "cell_type": "code",
   "execution_count": 2,
   "metadata": {
    "colab": {
     "base_uri": "https://localhost:8080/"
    },
    "executionInfo": {
     "elapsed": 51,
     "status": "ok",
     "timestamp": 1726711575711,
     "user": {
      "displayName": "nimoy",
      "userId": "12145814232676261569"
     },
     "user_tz": -330
    },
    "id": "ms4vsSLW17sO",
    "outputId": "129f7ef1-e200-4d4f-ac62-c0966d567666"
   },
   "outputs": [
    {
     "name": "stdout",
     "output_type": "stream",
     "text": [
      "2.5.1+cpu\n"
     ]
    }
   ],
   "source": [
    "print(torch.__version__)"
   ]
  },
  {
   "cell_type": "markdown",
   "metadata": {
    "id": "UECL8Zlh2PcH"
   },
   "source": [
    "Introduction to tensors"
   ]
  },
  {
   "cell_type": "code",
   "execution_count": 3,
   "metadata": {
    "colab": {
     "base_uri": "https://localhost:8080/"
    },
    "executionInfo": {
     "elapsed": 725,
     "status": "ok",
     "timestamp": 1726507496515,
     "user": {
      "displayName": "nimoy",
      "userId": "12145814232676261569"
     },
     "user_tz": -330
    },
    "id": "uTDCuuIC2AAP",
    "outputId": "d8b92fd3-0e7e-41f9-986f-c1d61a958d98"
   },
   "outputs": [
    {
     "name": "stdout",
     "output_type": "stream",
     "text": [
      "tensor(7)\n",
      "Dimension of tensor: 0\n",
      "7\n"
     ]
    }
   ],
   "source": [
    "# Scalar number or Zero Dimension Tensor\n",
    "\n",
    "scalar = torch.tensor(7)\n",
    "print(scalar)\n",
    "\n",
    "# tensor(7) means 7 is of type tensor\n",
    "\n",
    "# To check dimension of tensor, use ndim\n",
    "print(f\"Dimension of tensor: {scalar.ndim}\")\n",
    "\n",
    "# To Retrive number/value from the tensor, use item\n",
    "\n",
    "print(scalar.item())"
   ]
  },
  {
   "cell_type": "code",
   "execution_count": 4,
   "metadata": {
    "colab": {
     "base_uri": "https://localhost:8080/"
    },
    "executionInfo": {
     "elapsed": 401,
     "status": "ok",
     "timestamp": 1726507701913,
     "user": {
      "displayName": "nimoy",
      "userId": "12145814232676261569"
     },
     "user_tz": -330
    },
    "id": "h8B7oJjX2uBg",
    "outputId": "3e5c92be-3143-41b0-cbf2-ba920b294d2b"
   },
   "outputs": [
    {
     "name": "stdout",
     "output_type": "stream",
     "text": [
      "tensor([0, 1])\n",
      "Dimension of vector: 1\n",
      "Shape of tensor: torch.Size([2])\n",
      "0\n"
     ]
    }
   ],
   "source": [
    "# Vector : Single dimesnion vector, just like 1D array. Can contain many numbers.\n",
    "\n",
    "vector = torch.tensor([0, 1])\n",
    "print(vector)\n",
    "\n",
    "print(f\"Dimension of vector: {vector.ndim}\")\n",
    "\n",
    "print(f\"Shape of tensor: {vector.shape}\")\n",
    "\n",
    "print(vector[0].item())"
   ]
  },
  {
   "cell_type": "code",
   "execution_count": 5,
   "metadata": {
    "colab": {
     "base_uri": "https://localhost:8080/"
    },
    "executionInfo": {
     "elapsed": 941,
     "status": "ok",
     "timestamp": 1726507802287,
     "user": {
      "displayName": "nimoy",
      "userId": "12145814232676261569"
     },
     "user_tz": -330
    },
    "id": "k5TrNT8J3nVU",
    "outputId": "cb9184f2-e584-4f18-81ab-f7b64dc4df2c"
   },
   "outputs": [
    {
     "name": "stdout",
     "output_type": "stream",
     "text": [
      "tensor([[0, 1],\n",
      "        [3, 4]])\n",
      "2\n",
      "torch.Size([2, 2])\n",
      "0\n"
     ]
    }
   ],
   "source": [
    "# Matrix, same as vector but has 2D\n",
    "Matrix = torch.tensor([[0, 1],\n",
    "                       [3, 4]])\n",
    "\n",
    "print(Matrix)\n",
    "\n",
    "print(Matrix.ndim)\n",
    "\n",
    "print(Matrix.shape)\n",
    "print(Matrix[0][0].item())\n",
    "# Two vector with shape of 2 i.e. [2,2]"
   ]
  },
  {
   "cell_type": "code",
   "execution_count": 6,
   "metadata": {
    "colab": {
     "base_uri": "https://localhost:8080/"
    },
    "executionInfo": {
     "elapsed": 822,
     "status": "ok",
     "timestamp": 1726711865302,
     "user": {
      "displayName": "nimoy",
      "userId": "12145814232676261569"
     },
     "user_tz": -330
    },
    "id": "lO0gfC3M4azJ",
    "outputId": "d164b821-29b4-41ab-8d1e-d81ff942c4ec"
   },
   "outputs": [
    {
     "name": "stdout",
     "output_type": "stream",
     "text": [
      "tensor([[0, 1],\n",
      "        [3, 4],\n",
      "        [5, 6]])\n",
      "2\n",
      "torch.Size([3, 2])\n"
     ]
    }
   ],
   "source": [
    "# Tensor, n-Dimension\n",
    "Tensor = torch.tensor([[0, 1],\n",
    "                       [3, 4],\n",
    "                       [5,6]])\n",
    "\n",
    "print(Tensor)\n",
    "\n",
    "print(Tensor.ndim)\n",
    "\n",
    "print(Tensor.shape)\n",
    "# Two vector with shape of 2 i.e. [2,2]"
   ]
  },
  {
   "cell_type": "code",
   "execution_count": 7,
   "metadata": {
    "colab": {
     "base_uri": "https://localhost:8080/",
     "height": 296
    },
    "executionInfo": {
     "elapsed": 542,
     "status": "ok",
     "timestamp": 1726712453087,
     "user": {
      "displayName": "nimoy",
      "userId": "12145814232676261569"
     },
     "user_tz": -330
    },
    "id": "5JjtxjG25TO0",
    "outputId": "4183f0ca-9c51-45af-ac29-f87bf15c906e"
   },
   "outputs": [
    {
     "name": "stdout",
     "output_type": "stream",
     "text": [
      "tensor([[[0, 1],\n",
      "         [3, 4],\n",
      "         [5, 6]]])\n",
      "3\n",
      "torch.Size([1, 3, 2])\n",
      "========================================\n",
      "tensor([[0, 1],\n",
      "        [3, 4],\n",
      "        [5, 6]])\n",
      "tensor([0, 1])\n",
      "tensor(0)\n",
      "========================================\n",
      "tensor([[0, 1]])\n",
      "tensor([[1, 4, 6]])\n",
      "tensor([6])\n"
     ]
    },
    {
     "data": {
      "text/plain": [
       "'\\nGet all values of 0th dimesnion and 1st index of 1st demension (row) and 1st index from 2nd dimesion (column)\\n'"
      ]
     },
     "execution_count": 7,
     "metadata": {},
     "output_type": "execute_result"
    }
   ],
   "source": [
    "# Tensor, n-Dimension\n",
    "Tensor = torch.tensor([[[0, 1],\n",
    "                       [3, 4],\n",
    "                       [5,6]]])\n",
    "\n",
    "print(Tensor)\n",
    "\n",
    "print(Tensor.ndim)\n",
    "\n",
    "print(Tensor.shape)\n",
    "# 1,3,2 means 1 dimension of shape 3,2\n",
    "# torch.Size([1,3,2]) means dim_0 = 1, dim_1 = 3, dim_2 = 2\n",
    "\n",
    "# Indexing\n",
    "print(\"==\"*20)\n",
    "print(Tensor[0]) # First Square Bracket\n",
    "print(Tensor[0][0]) # Second Square Bracket\n",
    "print(Tensor[0][0][0]) # Third Square Bracket\n",
    "\n",
    "print(\"==\"*20)\n",
    "print(Tensor[:, 0])\n",
    "'''\n",
    "Get all values of 0th dimesnion and 0th index of 1st demension (row)\n",
    "'''\n",
    "print(Tensor[:,:,1])\n",
    "'''\n",
    "Get all values of 0th & 1st dimensions but only index 1 of 2nd dimension\n",
    "i.e. 0th dimesion is outer square bracket, 1st dimension is row, 2nd dimesnion (column)\n",
    "is column bring all the values from column\n",
    "'''\n",
    "print(Tensor[:,2,1])\n",
    "'''\n",
    "Get all values of 0th dimesnion and 1st index of 1st demension (row) and 1st index from 2nd dimesion (column)\n",
    "'''"
   ]
  },
  {
   "cell_type": "code",
   "execution_count": 8,
   "metadata": {
    "colab": {
     "base_uri": "https://localhost:8080/"
    },
    "executionInfo": {
     "elapsed": 13,
     "status": "ok",
     "timestamp": 1726508028693,
     "user": {
      "displayName": "nimoy",
      "userId": "12145814232676261569"
     },
     "user_tz": -330
    },
    "id": "RvY8Arka5WXB",
    "outputId": "bc5ac80a-e211-4ded-fff0-82f22489d284"
   },
   "outputs": [
    {
     "name": "stdout",
     "output_type": "stream",
     "text": [
      "tensor([[[ 0,  1, -1],\n",
      "         [ 3,  4, -2],\n",
      "         [ 5,  6, -3]]])\n",
      "3\n",
      "torch.Size([1, 3, 3])\n"
     ]
    }
   ],
   "source": [
    "# Tensor, n-Dimension\n",
    "Tensor = torch.tensor([[[0, 1, -1],\n",
    "                       [3, 4, -2],\n",
    "                       [5,6, -3]]])\n",
    "\n",
    "print(Tensor)\n",
    "\n",
    "print(Tensor.ndim)\n",
    "\n",
    "print(Tensor.shape)\n",
    "# 1,3,3 means 1 dimension of shape 3,3\n",
    "# torch.Size([1,3,3]) means dim_0 = 1, dim_1 = 3, dim_2 = 3"
   ]
  },
  {
   "cell_type": "code",
   "execution_count": null,
   "metadata": {
    "id": "aGmjEuq25c9I"
   },
   "outputs": [],
   "source": [
    "## 0 Dimesnion tensor is scalar, 1 Dimension tensor is vector, 2 Dimension tensor is Matric and all of them are tensors. Tensor is n-dimesnion array of numbers."
   ]
  },
  {
   "cell_type": "markdown",
   "metadata": {
    "id": "RuKoJINS8CXb"
   },
   "source": [
    "# Random Numbers\n"
   ]
  },
  {
   "cell_type": "code",
   "execution_count": 9,
   "metadata": {
    "colab": {
     "base_uri": "https://localhost:8080/"
    },
    "executionInfo": {
     "elapsed": 532,
     "status": "ok",
     "timestamp": 1726508755532,
     "user": {
      "displayName": "nimoy",
      "userId": "12145814232676261569"
     },
     "user_tz": -330
    },
    "id": "0h063Sji7dEq",
    "outputId": "47f10f34-3796-4b3a-e733-ed1269ade374"
   },
   "outputs": [
    {
     "name": "stdout",
     "output_type": "stream",
     "text": [
      "tensor([[0.3135, 0.4153, 0.3220, 0.6121],\n",
      "        [0.5826, 0.9716, 0.2937, 0.2539],\n",
      "        [0.4604, 0.0607, 0.2860, 0.8264]])\n",
      "2\n",
      "torch.Size([3, 4])\n"
     ]
    }
   ],
   "source": [
    "random_tensor = torch.rand(size=(3, 4))\n",
    "# 3,4 = c x r or or 3 vectors of shape 4\n",
    "\n",
    "print(random_tensor)\n",
    "\n",
    "print(random_tensor.ndim)\n",
    "\n",
    "print(random_tensor.shape)"
   ]
  },
  {
   "cell_type": "code",
   "execution_count": 11,
   "metadata": {
    "colab": {
     "base_uri": "https://localhost:8080/",
     "height": 502
    },
    "executionInfo": {
     "elapsed": 1139,
     "status": "ok",
     "timestamp": 1726510208766,
     "user": {
      "displayName": "nimoy",
      "userId": "12145814232676261569"
     },
     "user_tz": -330
    },
    "id": "sLOP85Pv8OV_",
    "outputId": "ddab283f-339b-45dd-85e1-81925ba9e1f5"
   },
   "outputs": [],
   "source": [
    "import torch\n",
    "import numpy as np\n",
    "import cv2\n",
    "\n",
    "# Generate random image noise\n",
    "random_image_tensor = torch.rand(size=(150, 150, 3))\n",
    "\n",
    "# Convert the tensor to a NumPy array\n",
    "random_image_np = random_image_tensor.numpy()\n",
    "\n",
    "# Rescale to [0, 255] for 8-bit image\n",
    "random_image_np = (random_image_np * 255).astype(np.uint8)\n",
    "\n",
    "# Display the image using OpenCV\n",
    "cv2.imshow(\"Random Noise Image\", random_image_np)\n",
    "cv2.waitKey(0)  # Wait until a key is pressed\n",
    "cv2.destroyAllWindows()\n",
    "\n",
    "# If you try different scaling, clip the values to make sure they are in the valid range\n",
    "random_image_np = (random_image_tensor.numpy() * 500).clip(0, 255).astype(np.uint8)\n",
    "cv2.imshow(\"Scaled Noise Image\", random_image_np)\n",
    "cv2.waitKey(0)  # Wait until a key is pressed\n",
    "cv2.destroyAllWindows()\n"
   ]
  },
  {
   "cell_type": "markdown",
   "metadata": {
    "id": "ij0RYHfrB_G7"
   },
   "source": [
    "# Tensor of zero's and one's"
   ]
  },
  {
   "cell_type": "code",
   "execution_count": 12,
   "metadata": {
    "colab": {
     "base_uri": "https://localhost:8080/"
    },
    "executionInfo": {
     "elapsed": 501,
     "status": "ok",
     "timestamp": 1726510359111,
     "user": {
      "displayName": "nimoy",
      "userId": "12145814232676261569"
     },
     "user_tz": -330
    },
    "id": "-V4qzUDR9SLO",
    "outputId": "c3745ca2-cb4c-4e56-9806-2d11ad258ade"
   },
   "outputs": [
    {
     "name": "stdout",
     "output_type": "stream",
     "text": [
      "tensor([[0., 0., 0., 0.],\n",
      "        [0., 0., 0., 0.],\n",
      "        [0., 0., 0., 0.]])\n",
      "torch.float32\n",
      "tensor([[1., 1., 1., 1.],\n",
      "        [1., 1., 1., 1.],\n",
      "        [1., 1., 1., 1.]])\n",
      "torch.float32\n"
     ]
    }
   ],
   "source": [
    "# Create a tensor of all zeros\n",
    "zeros = torch.zeros(size=(3, 4))\n",
    "print(zeros)\n",
    "print(zeros.dtype) # to check dataype of tensor\n",
    "\n",
    "# Create a tensor of all ones\n",
    "ones = torch.ones(size=(3, 4))\n",
    "print(ones)\n",
    "print(ones.dtype) # to check dataype of tensor"
   ]
  },
  {
   "cell_type": "code",
   "execution_count": 13,
   "metadata": {
    "colab": {
     "base_uri": "https://localhost:8080/"
    },
    "executionInfo": {
     "elapsed": 529,
     "status": "ok",
     "timestamp": 1726510489861,
     "user": {
      "displayName": "nimoy",
      "userId": "12145814232676261569"
     },
     "user_tz": -330
    },
    "id": "hLVlS4moCNzt",
    "outputId": "a737462d-9c47-4d9c-9fb8-b1591da5a429"
   },
   "outputs": [
    {
     "name": "stdout",
     "output_type": "stream",
     "text": [
      "tensor([ 0,  1,  2,  3,  4,  5,  6,  7,  8,  9, 10, 11, 12, 13, 14, 15, 16, 17,\n",
      "        18, 19])\n",
      "tensor([ 0,  2,  4,  6,  8, 10, 12, 14, 16, 18])\n"
     ]
    }
   ],
   "source": [
    "# Creating range of values\n",
    "\n",
    "range = torch.arange(start=0, end=20)\n",
    "print(range)\n",
    "\n",
    "range = torch.arange(start=0, end=20, step=2)\n",
    "print(range)"
   ]
  },
  {
   "cell_type": "code",
   "execution_count": 15,
   "metadata": {
    "colab": {
     "base_uri": "https://localhost:8080/",
     "height": 167
    },
    "executionInfo": {
     "elapsed": 640,
     "status": "ok",
     "timestamp": 1726510676556,
     "user": {
      "displayName": "nimoy",
      "userId": "12145814232676261569"
     },
     "user_tz": -330
    },
    "id": "88LW8WVCC0Lf",
    "outputId": "22e9e4b9-ae03-4e5f-9dcc-6e484ab2c480"
   },
   "outputs": [],
   "source": [
    "# Using shape of other tensor to create zero tensor\n",
    "\n",
    "import torch\n",
    "import numpy as np\n",
    "import cv2\n",
    "\n",
    "# Create a tensor of zeros with the same shape as random_image_tensor\n",
    "dummy_image_zeros = torch.zeros_like(random_image_tensor)\n",
    "\n",
    "# Convert the tensor to a NumPy array\n",
    "dummy_image_zeros_np = dummy_image_zeros.numpy()\n",
    "\n",
    "# Rescale to [0, 255] for display (although this is redundant since it's all zeros)\n",
    "dummy_image_zeros_np = dummy_image_zeros_np.astype(np.uint8)\n",
    "\n",
    "# Display the dummy image (all black)\n",
    "cv2.imshow(\"Dummy Image with Zeros\", dummy_image_zeros_np)\n",
    "cv2.waitKey(0)  # Wait until a key is pressed\n",
    "cv2.destroyAllWindows()\n"
   ]
  },
  {
   "cell_type": "code",
   "execution_count": 16,
   "metadata": {
    "colab": {
     "base_uri": "https://localhost:8080/",
     "height": 167
    },
    "executionInfo": {
     "elapsed": 642,
     "status": "ok",
     "timestamp": 1726510726122,
     "user": {
      "displayName": "nimoy",
      "userId": "12145814232676261569"
     },
     "user_tz": -330
    },
    "id": "2BOstX26DjEz",
    "outputId": "352f174e-a7d3-4c49-b62a-5321d79e4cf9"
   },
   "outputs": [],
   "source": [
    "# Using shape of other tensor to create zero tensor\n",
    "\n",
    "import torch\n",
    "import numpy as np\n",
    "import cv2\n",
    "\n",
    "# Create a tensor of ones with the same shape as random_image_tensor\n",
    "dummy_image_ones = torch.ones_like(random_image_tensor)\n",
    "\n",
    "# Convert the tensor to a NumPy array\n",
    "dummy_image_ones_np = dummy_image_ones.numpy()\n",
    "\n",
    "# Rescale to [0, 255] for display (scaled to 255 for display as white)\n",
    "dummy_image_ones_np = (dummy_image_ones_np * 255).astype(np.uint8)\n",
    "\n",
    "# Display the dummy image (all white)\n",
    "cv2.imshow(\"Dummy Image with Ones\", dummy_image_ones_np)\n",
    "cv2.waitKey(0)  # Wait until a key is pressed\n",
    "cv2.destroyAllWindows()\n"
   ]
  },
  {
   "cell_type": "markdown",
   "metadata": {
    "id": "MqrCbB0YFnN8"
   },
   "source": [
    "Pytorch has different precision type for each type of data types. Precision is the amount of detail used to describe a number. If we want more amount of detail, we need more precise dtype.\n",
    "Floating point type :\n",
    "\n",
    "* Default dtype of a tensor is torch.float32 or torch.float\n",
    "\n",
    "* Half of default is torch.float16 or torch.half  \n",
    "\n",
    "* Double of default is torch.float64 or torch.double\n",
    "\n",
    "Integer dtype :\n",
    "\n",
    "* torch.int8\n",
    "\n",
    "* torch.int16 or torch.short\n",
    "\n",
    "* torch.int32 or torch.int\n",
    "\n",
    "* torch.int64 or torch.long\n",
    "\n",
    "Boolean dtype :\n",
    "\n",
    "* torch.bool\n"
   ]
  },
  {
   "cell_type": "code",
   "execution_count": 17,
   "metadata": {
    "colab": {
     "base_uri": "https://localhost:8080/"
    },
    "executionInfo": {
     "elapsed": 434,
     "status": "ok",
     "timestamp": 1726511396625,
     "user": {
      "displayName": "nimoy",
      "userId": "12145814232676261569"
     },
     "user_tz": -330
    },
    "id": "oA06SKOTFiV-",
    "outputId": "ea4ae152-3869-46da-e0cd-ee3b9a0042e2"
   },
   "outputs": [
    {
     "name": "stdout",
     "output_type": "stream",
     "text": [
      "tensor([0, 1, 2])\n",
      "torch.int64\n",
      "cpu\n"
     ]
    }
   ],
   "source": [
    "# Default datatype for tensors is float32\n",
    "tensor_example = torch.tensor([0, 1, 2],\n",
    "                          dtype=None, # defaults to None, which is torch.int64 or whatever datatype is passed\n",
    "                          device=None, # defaults to None, which uses the default tensor type\n",
    "                          requires_grad=False) # if True, operations performed on the tensor are recorded\n",
    "\n",
    "print(tensor_example)\n",
    "\n",
    "print(tensor_example.dtype)\n",
    "\n",
    "print(tensor_example.device)"
   ]
  },
  {
   "cell_type": "code",
   "execution_count": 18,
   "metadata": {
    "colab": {
     "base_uri": "https://localhost:8080/"
    },
    "executionInfo": {
     "elapsed": 5,
     "status": "ok",
     "timestamp": 1726511397130,
     "user": {
      "displayName": "nimoy",
      "userId": "12145814232676261569"
     },
     "user_tz": -330
    },
    "id": "X8_gIYSkGHxN",
    "outputId": "c3beaae5-e85c-4d44-c957-a660bb033324"
   },
   "outputs": [
    {
     "name": "stdout",
     "output_type": "stream",
     "text": [
      "tensor([0., 1., 2.])\n",
      "torch.float32\n",
      "cpu\n"
     ]
    }
   ],
   "source": [
    "# Default datatype for tensors is float32\n",
    "tensor_example = torch.tensor([0., 1., 2.],\n",
    "                          dtype=None, # defaults to None, which is torch.float32 or whatever datatype is passed\n",
    "                          device=None, # defaults to None, which uses the default tensor type\n",
    "                          requires_grad=False) # if True, operations performed on the tensor are recorded\n",
    "\n",
    "print(tensor_example)\n",
    "\n",
    "print(tensor_example.dtype)\n",
    "\n",
    "print(tensor_example.device)"
   ]
  },
  {
   "cell_type": "code",
   "execution_count": 19,
   "metadata": {
    "colab": {
     "base_uri": "https://localhost:8080/"
    },
    "executionInfo": {
     "elapsed": 437,
     "status": "ok",
     "timestamp": 1726511466987,
     "user": {
      "displayName": "nimoy",
      "userId": "12145814232676261569"
     },
     "user_tz": -330
    },
    "id": "_P4-p06_GLTS",
    "outputId": "11739b1f-4a77-442f-c09e-4edaff08ec52"
   },
   "outputs": [
    {
     "name": "stdout",
     "output_type": "stream",
     "text": [
      "tensor([0., 1., 2.], dtype=torch.float64)\n",
      "torch.float64\n",
      "cpu\n"
     ]
    }
   ],
   "source": [
    "# Default datatype for tensors is float32\n",
    "tensor_example = torch.tensor([0, 1, 2], dtype=torch.float64)\n",
    "\n",
    "print(tensor_example)\n",
    "\n",
    "print(tensor_example.dtype)\n",
    "\n",
    "print(tensor_example.device)"
   ]
  },
  {
   "cell_type": "markdown",
   "metadata": {
    "id": "BYwhsapbNVba"
   },
   "source": [
    "# Manupulating Tensors"
   ]
  },
  {
   "cell_type": "code",
   "execution_count": 20,
   "metadata": {
    "colab": {
     "base_uri": "https://localhost:8080/"
    },
    "executionInfo": {
     "elapsed": 385,
     "status": "ok",
     "timestamp": 1726580660204,
     "user": {
      "displayName": "nimoy",
      "userId": "12145814232676261569"
     },
     "user_tz": -330
    },
    "id": "VPYOq-jYGXQ2",
    "outputId": "0e1020aa-2140-4219-9103-56939d5aeaec"
   },
   "outputs": [
    {
     "name": "stdout",
     "output_type": "stream",
     "text": [
      "tensor([11, 12, 13, 14])\n",
      "tensor([11, 12, 13, 14])\n",
      "tensor([-9, -8, -7, -6])\n",
      "tensor([-9, -8, -7, -6])\n",
      "tensor([10, 20, 30, 40])\n",
      "tensor([10, 20, 30, 40])\n",
      "tensor([0.1000, 0.2000, 0.3000, 0.4000])\n",
      "tensor([0.1000, 0.2000, 0.3000, 0.4000])\n"
     ]
    }
   ],
   "source": [
    "tensor_t = torch.tensor([1,2,3,4])\n",
    "\n",
    "# Adition\n",
    "print(tensor_t + 10)\n",
    "print(torch.add(tensor_t, 10))\n",
    "\n",
    "# Subtraction\n",
    "print(tensor_t - 10)\n",
    "print(torch.subtract(tensor_t, 10))\n",
    "\n",
    "# Multiplication\n",
    "print(tensor_t * 10)\n",
    "print(torch.mul(tensor_t, 10))\n",
    "\n",
    "# Division\n",
    "print(tensor_t / 10)\n",
    "print(torch.div(tensor_t, 10))"
   ]
  },
  {
   "cell_type": "code",
   "execution_count": 21,
   "metadata": {
    "colab": {
     "base_uri": "https://localhost:8080/"
    },
    "executionInfo": {
     "elapsed": 816,
     "status": "ok",
     "timestamp": 1726580728465,
     "user": {
      "displayName": "nimoy",
      "userId": "12145814232676261569"
     },
     "user_tz": -330
    },
    "id": "rrV3c8iYOE75",
    "outputId": "889affc2-54e0-4c12-e174-a38234b5a6c1"
   },
   "outputs": [
    {
     "name": "stdout",
     "output_type": "stream",
     "text": [
      "tensor([ 1,  4,  9, 16])\n"
     ]
    }
   ],
   "source": [
    "# Element wise multiplication\n",
    "\n",
    "print(tensor_t * tensor_t)"
   ]
  },
  {
   "cell_type": "code",
   "execution_count": 22,
   "metadata": {
    "colab": {
     "base_uri": "https://localhost:8080/"
    },
    "executionInfo": {
     "elapsed": 436,
     "status": "ok",
     "timestamp": 1726581085111,
     "user": {
      "displayName": "nimoy",
      "userId": "12145814232676261569"
     },
     "user_tz": -330
    },
    "id": "yHV7wYJ3OxwA",
    "outputId": "3d4947a8-00a4-4c7a-80d2-38c36b91341e"
   },
   "outputs": [
    {
     "name": "stdout",
     "output_type": "stream",
     "text": [
      "tensor(30)\n"
     ]
    }
   ],
   "source": [
    "# Matrix Multiplication or DOT Product\n",
    "\n",
    "'''\n",
    "For a successful matrix operation, we need to consider few things\n",
    "\n",
    "* Matrix Inner Dimesnion Should Match\n",
    "- matrix_a.shape = X, Y\n",
    "- matrix_b.shape = A, B\n",
    "Condition --> Y == A\n",
    "\n",
    "* Resulting Matrix will have the shape of Outer Dimesnion\n",
    "- matrix_a.shape = X, Y\n",
    "- matrix_b.shape = A, B\n",
    "Output --> X, B\n",
    "'''\n",
    "\n",
    "print(torch.matmul(tensor_t, tensor_t))\n",
    "# [1*1 + 2*2 + 3*3 + 4*4]\n",
    "# [1 + 4 + 9 + 16]\n",
    "# [10 + 20] = [30]"
   ]
  },
  {
   "cell_type": "code",
   "execution_count": 23,
   "metadata": {
    "colab": {
     "base_uri": "https://localhost:8080/"
    },
    "executionInfo": {
     "elapsed": 568,
     "status": "ok",
     "timestamp": 1726581345401,
     "user": {
      "displayName": "nimoy",
      "userId": "12145814232676261569"
     },
     "user_tz": -330
    },
    "id": "VdhrSWnjPBta",
    "outputId": "6cd3388b-a8d1-45e3-8181-e8b06b8211a3"
   },
   "outputs": [
    {
     "name": "stdout",
     "output_type": "stream",
     "text": [
      "We are trying to multiply tensor of same shape, Rule is that inner dimension should match. Error : mat1 and mat2 shapes cannot be multiplied (3x2 and 3x2)\n"
     ]
    }
   ],
   "source": [
    "tensor_a = torch.tensor([[1,2],\n",
    "                         [2,3],\n",
    "                         [3,4]])\n",
    "tensor_b = torch.tensor([[1,2],\n",
    "                         [2,3],\n",
    "                         [3,4]])\n",
    "\n",
    "try:\n",
    "  print(torch.matmul(tensor_a, tensor_b))\n",
    "except Exception as e:\n",
    "  print(f\"We are trying to multiply tensor of same shape, Rule is that inner dimension should match. Error : {e}\")"
   ]
  },
  {
   "cell_type": "code",
   "execution_count": 24,
   "metadata": {
    "colab": {
     "base_uri": "https://localhost:8080/"
    },
    "executionInfo": {
     "elapsed": 631,
     "status": "ok",
     "timestamp": 1726582255640,
     "user": {
      "displayName": "nimoy",
      "userId": "12145814232676261569"
     },
     "user_tz": -330
    },
    "id": "nFVG0aYuRIgE",
    "outputId": "39f625ef-bf50-4014-895b-daff0b33a6a8"
   },
   "outputs": [
    {
     "name": "stdout",
     "output_type": "stream",
     "text": [
      "torch.Size([3, 2]) torch.Size([2, 3])\n",
      "tensor([[ 5,  8, 11],\n",
      "        [ 8, 13, 18],\n",
      "        [11, 18, 25]])\n",
      "tensor([[ 5,  8, 11],\n",
      "        [ 8, 13, 18],\n",
      "        [11, 18, 25]])\n"
     ]
    }
   ],
   "source": [
    "tensor_a = torch.tensor([[1,2],\n",
    "                         [2,3],\n",
    "                         [3,4]])\n",
    "tensor_b = torch.tensor([[1,2],\n",
    "                         [2,3],\n",
    "                         [3,4]])\n",
    "\n",
    "# Perform transpose on a Matrix\n",
    "try:\n",
    "  print(tensor_a.shape, tensor_b.T.shape)\n",
    "  print(torch.matmul(tensor_a, tensor_b.T))\n",
    "  print(torch.mm(tensor_a, tensor_b.T))\n",
    "except Exception as e:\n",
    "  print(f\"We are trying to multiply tensor of same shape, Rule is that inner dimension should match. Error : {e}\")"
   ]
  },
  {
   "cell_type": "markdown",
   "metadata": {
    "id": "Kf9DEJgearuM"
   },
   "source": [
    "# Matrix Aggregation"
   ]
  },
  {
   "cell_type": "code",
   "execution_count": 25,
   "metadata": {
    "colab": {
     "base_uri": "https://localhost:8080/"
    },
    "executionInfo": {
     "elapsed": 619,
     "status": "ok",
     "timestamp": 1726584536271,
     "user": {
      "displayName": "nimoy",
      "userId": "12145814232676261569"
     },
     "user_tz": -330
    },
    "id": "BUtq5KPpRUkL",
    "outputId": "a341c7dd-aa82-40c3-bd0b-f98e566e77e4"
   },
   "outputs": [
    {
     "name": "stdout",
     "output_type": "stream",
     "text": [
      "Minimum: 1\n",
      "Maximum: 10\n",
      "--------------------\n",
      "Exception : mean(): could not infer output dtype. Input dtype must be either a floating point or complex dtype. Got: Long\n",
      "torch.int64\n",
      "Mean: 5.5\n",
      "--------------------\n",
      "Index where max value occurs: 9\n",
      "Maximum Value at index 9 : 10\n",
      "--------------------\n",
      "Index where min value occurs: 0\n",
      "Minimum Value at index 0 : 1\n"
     ]
    }
   ],
   "source": [
    "tensor_agg = torch.tensor([1,2,3,4,5,6,7,8,9,10])\n",
    "print(f\"Minimum: {tensor_agg.min()}\")\n",
    "print(f\"Maximum: {tensor_agg.max()}\")\n",
    "print(\"-\"*20)\n",
    "try:\n",
    "  print(f\"Mean: {tensor_agg.mean()}\") # won't work without float datatype\n",
    "except Exception as e:\n",
    "  print(f\"Exception : {e}\")\n",
    "  print(tensor_agg.dtype)\n",
    "  # Syntax : tensor.type(torch.datatype)\n",
    "  print(f\"Mean: {tensor_agg.type(torch.float32).mean()}\") # won't work without float datatype\n",
    "\n",
    "print(\"-\"*20)\n",
    "\n",
    "print(f\"Index where max value occurs: {tensor_agg.argmax()}\")\n",
    "print(f\"Maximum Value at index {tensor_agg.argmax()} : {tensor_agg[tensor_agg.argmax()].item()}\")\n",
    "\n",
    "print(\"-\"*20)\n",
    "\n",
    "print(f\"Index where min value occurs: {tensor_agg.argmin()}\")\n",
    "print(f\"Minimum Value at index {tensor_agg.argmin()} : {tensor_agg[tensor_agg.argmin()].item()}\")"
   ]
  },
  {
   "cell_type": "code",
   "execution_count": null,
   "metadata": {
    "id": "BQEHnLmtjnXW"
   },
   "outputs": [],
   "source": []
  }
 ],
 "metadata": {
  "colab": {
   "authorship_tag": "ABX9TyMOuBukBIYxH9stkaYUBr0B",
   "provenance": []
  },
  "kernelspec": {
   "display_name": "cv_live",
   "language": "python",
   "name": "python3"
  },
  "language_info": {
   "codemirror_mode": {
    "name": "ipython",
    "version": 3
   },
   "file_extension": ".py",
   "mimetype": "text/x-python",
   "name": "python",
   "nbconvert_exporter": "python",
   "pygments_lexer": "ipython3",
   "version": "3.11.10"
  }
 },
 "nbformat": 4,
 "nbformat_minor": 0
}
